{
 "cells": [
  {
   "cell_type": "markdown",
   "id": "6ac8dfef-12d6-4215-b87d-7d49b1316741",
   "metadata": {},
   "source": [
    "Let's answer three questions using the airports datast:\n",
    "\n",
    "1) What is the northernmost airport in the United States?\n",
    "2) What is the easternmost airport in the United States?\n",
    "3) On February 12th, 2013, which New York area airport had the windiest weather?"
   ]
  },
  {
   "cell_type": "code",
   "execution_count": 12,
   "id": "af90733e-a186-4396-bce6-fa3a7721b65d",
   "metadata": {},
   "outputs": [],
   "source": [
    "import pandas as pd\n",
    "\n",
    "df_airports = pd.read_csv('/home/kobi/is362/Week 5 Assignment/airports.csv')"
   ]
  },
  {
   "cell_type": "code",
   "execution_count": 13,
   "id": "25f3d638-5d64-44df-af1f-32f564fded2f",
   "metadata": {},
   "outputs": [
    {
     "name": "stdout",
     "output_type": "stream",
     "text": [
      "Northernmost Airport:\n"
     ]
    },
    {
     "data": {
      "text/html": [
       "<div>\n",
       "<style scoped>\n",
       "    .dataframe tbody tr th:only-of-type {\n",
       "        vertical-align: middle;\n",
       "    }\n",
       "\n",
       "    .dataframe tbody tr th {\n",
       "        vertical-align: top;\n",
       "    }\n",
       "\n",
       "    .dataframe thead th {\n",
       "        text-align: right;\n",
       "    }\n",
       "</style>\n",
       "<table border=\"1\" class=\"dataframe\">\n",
       "  <thead>\n",
       "    <tr style=\"text-align: right;\">\n",
       "      <th></th>\n",
       "      <th>faa</th>\n",
       "      <th>name</th>\n",
       "      <th>lat</th>\n",
       "      <th>lon</th>\n",
       "    </tr>\n",
       "  </thead>\n",
       "  <tbody>\n",
       "    <tr>\n",
       "      <th>417</th>\n",
       "      <td>EEN</td>\n",
       "      <td>Dillant Hopkins Airport</td>\n",
       "      <td>72.270833</td>\n",
       "      <td>42.898333</td>\n",
       "    </tr>\n",
       "  </tbody>\n",
       "</table>\n",
       "</div>"
      ],
      "text/plain": [
       "     faa                     name        lat        lon\n",
       "417  EEN  Dillant Hopkins Airport  72.270833  42.898333"
      ]
     },
     "metadata": {},
     "output_type": "display_data"
    }
   ],
   "source": [
    "# 1) Let's sort airports by latitude and pull the top airport to find the northernmost airport in the US\n",
    "northernmost_airport = df_airports.sort_values(by='lat', ascending=False).head(1)\n",
    "print(\"Northernmost Airport:\")\n",
    "display(northernmost_airport[['faa', 'name', 'lat', 'lon']])"
   ]
  },
  {
   "cell_type": "code",
   "execution_count": 14,
   "id": "b7872641-3243-43ed-afd3-b9a4b83c4006",
   "metadata": {},
   "outputs": [
    {
     "name": "stdout",
     "output_type": "stream",
     "text": [
      "Easternmost Airport:\n"
     ]
    },
    {
     "data": {
      "text/html": [
       "<div>\n",
       "<style scoped>\n",
       "    .dataframe tbody tr th:only-of-type {\n",
       "        vertical-align: middle;\n",
       "    }\n",
       "\n",
       "    .dataframe tbody tr th {\n",
       "        vertical-align: top;\n",
       "    }\n",
       "\n",
       "    .dataframe thead th {\n",
       "        text-align: right;\n",
       "    }\n",
       "</style>\n",
       "<table border=\"1\" class=\"dataframe\">\n",
       "  <thead>\n",
       "    <tr style=\"text-align: right;\">\n",
       "      <th></th>\n",
       "      <th>faa</th>\n",
       "      <th>name</th>\n",
       "      <th>lat</th>\n",
       "      <th>lon</th>\n",
       "    </tr>\n",
       "  </thead>\n",
       "  <tbody>\n",
       "    <tr>\n",
       "      <th>95</th>\n",
       "      <td>ADK</td>\n",
       "      <td>Adak Airport</td>\n",
       "      <td>51.878</td>\n",
       "      <td>-176.646</td>\n",
       "    </tr>\n",
       "  </tbody>\n",
       "</table>\n",
       "</div>"
      ],
      "text/plain": [
       "    faa          name     lat      lon\n",
       "95  ADK  Adak Airport  51.878 -176.646"
      ]
     },
     "metadata": {},
     "output_type": "display_data"
    }
   ],
   "source": [
    "# 2) Let's sort airports by longitude and pull the easternmost airport in the US\n",
    "\n",
    "easternmost_airport = df_airports.sort_values(by='lon', ascending=True).head(1)\n",
    "print(\"Easternmost Airport:\")\n",
    "display(easternmost_airport[['faa', 'name', 'lat', 'lon']])"
   ]
  },
  {
   "cell_type": "code",
   "execution_count": 15,
   "id": "7572e74b-2f03-44ce-bbb8-74dd7663faeb",
   "metadata": {},
   "outputs": [
    {
     "name": "stdout",
     "output_type": "stream",
     "text": [
      "Windiest New York Airport on February 12th, 2013:\n"
     ]
    },
    {
     "data": {
      "text/html": [
       "<div>\n",
       "<style scoped>\n",
       "    .dataframe tbody tr th:only-of-type {\n",
       "        vertical-align: middle;\n",
       "    }\n",
       "\n",
       "    .dataframe tbody tr th {\n",
       "        vertical-align: top;\n",
       "    }\n",
       "\n",
       "    .dataframe thead th {\n",
       "        text-align: right;\n",
       "    }\n",
       "</style>\n",
       "<table border=\"1\" class=\"dataframe\">\n",
       "  <thead>\n",
       "    <tr style=\"text-align: right;\">\n",
       "      <th></th>\n",
       "      <th>origin</th>\n",
       "      <th>wind_speed</th>\n",
       "    </tr>\n",
       "  </thead>\n",
       "  <tbody>\n",
       "    <tr>\n",
       "      <th>1009</th>\n",
       "      <td>EWR</td>\n",
       "      <td>1048.36058</td>\n",
       "    </tr>\n",
       "  </tbody>\n",
       "</table>\n",
       "</div>"
      ],
      "text/plain": [
       "     origin  wind_speed\n",
       "1009    EWR  1048.36058"
      ]
     },
     "metadata": {},
     "output_type": "display_data"
    }
   ],
   "source": [
    "# 3) Let's import the weather dataset, filter by New York airports, and then find the airport with highest wind speed\n",
    "\n",
    "df_weather = pd.read_csv('/home/kobi/is362/Week 5 Assignment/weather.csv')\n",
    "\n",
    "ny_weather = df_weather[(df_weather['origin'].isin(['JFK', 'LGA', 'EWR'])) & (df_weather['year'] == 2013) & (df_weather['month'] == 2) & (df_weather['day'] == 12)]\n",
    "\n",
    "windiest_airport = ny_weather.sort_values(by='wind_speed', ascending=False).head(1)\n",
    "print(\"Windiest New York Airport on February 12th, 2013:\")\n",
    "display(windiest_airport[['origin', 'wind_speed']])"
   ]
  },
  {
   "cell_type": "markdown",
   "id": "35cecfda-2c9a-4410-8479-f154f879a27e",
   "metadata": {},
   "source": [
    "Note: I consider EWR to be a new york \"area\" airport."
   ]
  },
  {
   "cell_type": "markdown",
   "id": "1ec1a156-17d8-4dc0-b1a8-714cec5a289f",
   "metadata": {},
   "source": [
    "Issue #1- Dillant Hopkins Airport is in NH- that does not seem nearly as north as we can get! Let's show the top 5 to see if the top entry is a mistake!"
   ]
  },
  {
   "cell_type": "code",
   "execution_count": 16,
   "id": "f6055122-c37d-4d20-9218-12664f43d97a",
   "metadata": {},
   "outputs": [
    {
     "name": "stdout",
     "output_type": "stream",
     "text": [
      "Northernmost Airports:\n"
     ]
    },
    {
     "data": {
      "text/html": [
       "<div>\n",
       "<style scoped>\n",
       "    .dataframe tbody tr th:only-of-type {\n",
       "        vertical-align: middle;\n",
       "    }\n",
       "\n",
       "    .dataframe tbody tr th {\n",
       "        vertical-align: top;\n",
       "    }\n",
       "\n",
       "    .dataframe thead th {\n",
       "        text-align: right;\n",
       "    }\n",
       "</style>\n",
       "<table border=\"1\" class=\"dataframe\">\n",
       "  <thead>\n",
       "    <tr style=\"text-align: right;\">\n",
       "      <th></th>\n",
       "      <th>faa</th>\n",
       "      <th>name</th>\n",
       "      <th>lat</th>\n",
       "      <th>lon</th>\n",
       "    </tr>\n",
       "  </thead>\n",
       "  <tbody>\n",
       "    <tr>\n",
       "      <th>417</th>\n",
       "      <td>EEN</td>\n",
       "      <td>Dillant Hopkins Airport</td>\n",
       "      <td>72.270833</td>\n",
       "      <td>42.898333</td>\n",
       "    </tr>\n",
       "    <tr>\n",
       "      <th>230</th>\n",
       "      <td>BRW</td>\n",
       "      <td>Wiley Post Will Rogers Mem</td>\n",
       "      <td>71.285446</td>\n",
       "      <td>-156.766003</td>\n",
       "    </tr>\n",
       "    <tr>\n",
       "      <th>110</th>\n",
       "      <td>AIN</td>\n",
       "      <td>Wainwright Airport</td>\n",
       "      <td>70.638056</td>\n",
       "      <td>-159.994722</td>\n",
       "    </tr>\n",
       "    <tr>\n",
       "      <th>708</th>\n",
       "      <td>K03</td>\n",
       "      <td>Wainwright As</td>\n",
       "      <td>70.613378</td>\n",
       "      <td>-159.860350</td>\n",
       "    </tr>\n",
       "    <tr>\n",
       "      <th>152</th>\n",
       "      <td>ATK</td>\n",
       "      <td>Atqasuk Edward Burnell Sr Memorial Airport</td>\n",
       "      <td>70.467300</td>\n",
       "      <td>-157.436000</td>\n",
       "    </tr>\n",
       "  </tbody>\n",
       "</table>\n",
       "</div>"
      ],
      "text/plain": [
       "     faa                                        name        lat         lon\n",
       "417  EEN                     Dillant Hopkins Airport  72.270833   42.898333\n",
       "230  BRW                  Wiley Post Will Rogers Mem  71.285446 -156.766003\n",
       "110  AIN                          Wainwright Airport  70.638056 -159.994722\n",
       "708  K03                               Wainwright As  70.613378 -159.860350\n",
       "152  ATK  Atqasuk Edward Burnell Sr Memorial Airport  70.467300 -157.436000"
      ]
     },
     "metadata": {},
     "output_type": "display_data"
    }
   ],
   "source": [
    "northernmost_airport = df_airports.sort_values(by='lat', ascending=False).head(5)\n",
    "print(\"Northernmost Airports:\")\n",
    "display(northernmost_airport[['faa', 'name', 'lat', 'lon']])"
   ]
  },
  {
   "cell_type": "markdown",
   "id": "771740c0-2c44-468f-90cc-923226b564c4",
   "metadata": {},
   "source": [
    "Seems that the latitude and longitude of Dillant Hopkins Airport were flipped in the dataset! It seems that Wiley Post Will Rogers Memorial airport in ALASKA (!) is the TRUE northmost airport. The rest of the entries seem to also be correct."
   ]
  },
  {
   "cell_type": "markdown",
   "id": "660508f5-4b91-4e77-9554-6091464b8a24",
   "metadata": {},
   "source": [
    "Issue #2- Adak Airport SEEMS to be the westmost airport... let's show the top 5 eastmost airports to see if this is a mistake..."
   ]
  },
  {
   "cell_type": "code",
   "execution_count": 17,
   "id": "57809cf1-7146-4863-94de-5e104bf71058",
   "metadata": {},
   "outputs": [
    {
     "name": "stdout",
     "output_type": "stream",
     "text": [
      "Easternmost Airports:\n"
     ]
    },
    {
     "data": {
      "text/html": [
       "<div>\n",
       "<style scoped>\n",
       "    .dataframe tbody tr th:only-of-type {\n",
       "        vertical-align: middle;\n",
       "    }\n",
       "\n",
       "    .dataframe tbody tr th {\n",
       "        vertical-align: top;\n",
       "    }\n",
       "\n",
       "    .dataframe thead th {\n",
       "        text-align: right;\n",
       "    }\n",
       "</style>\n",
       "<table border=\"1\" class=\"dataframe\">\n",
       "  <thead>\n",
       "    <tr style=\"text-align: right;\">\n",
       "      <th></th>\n",
       "      <th>faa</th>\n",
       "      <th>name</th>\n",
       "      <th>lat</th>\n",
       "      <th>lon</th>\n",
       "    </tr>\n",
       "  </thead>\n",
       "  <tbody>\n",
       "    <tr>\n",
       "      <th>95</th>\n",
       "      <td>ADK</td>\n",
       "      <td>Adak Airport</td>\n",
       "      <td>51.878000</td>\n",
       "      <td>-176.646000</td>\n",
       "    </tr>\n",
       "    <tr>\n",
       "      <th>112</th>\n",
       "      <td>AKB</td>\n",
       "      <td>Atka Airport</td>\n",
       "      <td>52.220278</td>\n",
       "      <td>-174.206389</td>\n",
       "    </tr>\n",
       "    <tr>\n",
       "      <th>522</th>\n",
       "      <td>GAM</td>\n",
       "      <td>Gambell Airport</td>\n",
       "      <td>63.766800</td>\n",
       "      <td>-171.733000</td>\n",
       "    </tr>\n",
       "    <tr>\n",
       "      <th>1281</th>\n",
       "      <td>SVA</td>\n",
       "      <td>Savoonga Airport</td>\n",
       "      <td>63.686400</td>\n",
       "      <td>-170.493000</td>\n",
       "    </tr>\n",
       "    <tr>\n",
       "      <th>1251</th>\n",
       "      <td>SNP</td>\n",
       "      <td>St Paul Island</td>\n",
       "      <td>57.167333</td>\n",
       "      <td>-170.220444</td>\n",
       "    </tr>\n",
       "  </tbody>\n",
       "</table>\n",
       "</div>"
      ],
      "text/plain": [
       "      faa              name        lat         lon\n",
       "95    ADK      Adak Airport  51.878000 -176.646000\n",
       "112   AKB      Atka Airport  52.220278 -174.206389\n",
       "522   GAM   Gambell Airport  63.766800 -171.733000\n",
       "1281  SVA  Savoonga Airport  63.686400 -170.493000\n",
       "1251  SNP    St Paul Island  57.167333 -170.220444"
      ]
     },
     "metadata": {},
     "output_type": "display_data"
    }
   ],
   "source": [
    "easternmost_airport = df_airports.sort_values(by='lon', ascending=True).head(5)\n",
    "print(\"Easternmost Airports:\")\n",
    "display(easternmost_airport[['faa', 'name', 'lat', 'lon']])"
   ]
  },
  {
   "cell_type": "markdown",
   "id": "fe568d07-ce86-4c0b-be45-6f45cf4a2457",
   "metadata": {},
   "source": [
    "Hmm... let's think about these negative longitudes... Alaska just so happens to be a state that the 180th meridian crosses through. This makes Adak airport the easternmost US airport in the... WESTERN hemisphere. Since the earth is a globe, this would make Adak airport the easternmost airport in the United States based off this definition."
   ]
  },
  {
   "cell_type": "markdown",
   "id": "319bf48f-9ce8-4b62-a7fc-73b45c4ee4b9",
   "metadata": {},
   "source": [
    "Issue #3- What if there are outliers in the wind dataset? A wind speed of 1048 mph or kmph seems quite fast... as the rest of the data has more normal looking values... Let's display the top 10!"
   ]
  },
  {
   "cell_type": "code",
   "execution_count": 18,
   "id": "7854baa6-80e7-44d1-8569-5bc3854e5407",
   "metadata": {},
   "outputs": [
    {
     "name": "stdout",
     "output_type": "stream",
     "text": [
      "Windiest New York Airport on February 12th, 2013:\n"
     ]
    },
    {
     "data": {
      "text/html": [
       "<div>\n",
       "<style scoped>\n",
       "    .dataframe tbody tr th:only-of-type {\n",
       "        vertical-align: middle;\n",
       "    }\n",
       "\n",
       "    .dataframe tbody tr th {\n",
       "        vertical-align: top;\n",
       "    }\n",
       "\n",
       "    .dataframe thead th {\n",
       "        text-align: right;\n",
       "    }\n",
       "</style>\n",
       "<table border=\"1\" class=\"dataframe\">\n",
       "  <thead>\n",
       "    <tr style=\"text-align: right;\">\n",
       "      <th></th>\n",
       "      <th>origin</th>\n",
       "      <th>wind_speed</th>\n",
       "    </tr>\n",
       "  </thead>\n",
       "  <tbody>\n",
       "    <tr>\n",
       "      <th>1009</th>\n",
       "      <td>EWR</td>\n",
       "      <td>1048.36058</td>\n",
       "    </tr>\n",
       "    <tr>\n",
       "      <th>18417</th>\n",
       "      <td>LGA</td>\n",
       "      <td>23.01560</td>\n",
       "    </tr>\n",
       "    <tr>\n",
       "      <th>1018</th>\n",
       "      <td>EWR</td>\n",
       "      <td>21.86482</td>\n",
       "    </tr>\n",
       "    <tr>\n",
       "      <th>18428</th>\n",
       "      <td>LGA</td>\n",
       "      <td>21.86482</td>\n",
       "    </tr>\n",
       "    <tr>\n",
       "      <th>9717</th>\n",
       "      <td>JFK</td>\n",
       "      <td>20.71404</td>\n",
       "    </tr>\n",
       "    <tr>\n",
       "      <th>1008</th>\n",
       "      <td>EWR</td>\n",
       "      <td>20.71404</td>\n",
       "    </tr>\n",
       "    <tr>\n",
       "      <th>18429</th>\n",
       "      <td>LGA</td>\n",
       "      <td>20.71404</td>\n",
       "    </tr>\n",
       "    <tr>\n",
       "      <th>18416</th>\n",
       "      <td>LGA</td>\n",
       "      <td>19.56326</td>\n",
       "    </tr>\n",
       "    <tr>\n",
       "      <th>9716</th>\n",
       "      <td>JFK</td>\n",
       "      <td>19.56326</td>\n",
       "    </tr>\n",
       "    <tr>\n",
       "      <th>18427</th>\n",
       "      <td>LGA</td>\n",
       "      <td>19.56326</td>\n",
       "    </tr>\n",
       "  </tbody>\n",
       "</table>\n",
       "</div>"
      ],
      "text/plain": [
       "      origin  wind_speed\n",
       "1009     EWR  1048.36058\n",
       "18417    LGA    23.01560\n",
       "1018     EWR    21.86482\n",
       "18428    LGA    21.86482\n",
       "9717     JFK    20.71404\n",
       "1008     EWR    20.71404\n",
       "18429    LGA    20.71404\n",
       "18416    LGA    19.56326\n",
       "9716     JFK    19.56326\n",
       "18427    LGA    19.56326"
      ]
     },
     "metadata": {},
     "output_type": "display_data"
    }
   ],
   "source": [
    "windiest_airport = ny_weather.sort_values(by='wind_speed', ascending=False).head(10)\n",
    "print(\"Windiest New York Airport on February 12th, 2013:\")\n",
    "display(windiest_airport[['origin', 'wind_speed']])"
   ]
  },
  {
   "cell_type": "markdown",
   "id": "7816fec2-1238-4a73-beca-a90038fb2404",
   "metadata": {},
   "source": [
    "BANG BANG! Does seem like the EWR wind speed is an outlier. Seems LGA was the windiest! \n",
    "\n",
    "BUT WAIT! This is only showing us the highest single hour value. Taking a deeper look into the dataset shows that there are recordings for every hour of every day. We should find the average wind speeds of Feb 12, 2013 in each of the three airports to compare."
   ]
  },
  {
   "cell_type": "code",
   "execution_count": 20,
   "id": "b2d22f08-4e72-4de5-98e4-1136a75d3d0e",
   "metadata": {},
   "outputs": [
    {
     "name": "stdout",
     "output_type": "stream",
     "text": [
      "Average Wind Speeds on February 12, 2013:\n"
     ]
    },
    {
     "data": {
      "text/plain": [
       "origin\n",
       "EWR    13.258987\n",
       "JFK    14.384750\n",
       "LGA    14.960140\n",
       "Name: wind_speed, dtype: float64"
      ]
     },
     "metadata": {},
     "output_type": "display_data"
    }
   ],
   "source": [
    "ny_airports_weather = df_weather[(df_weather['origin'].isin(['LGA', 'EWR', 'JFK'])) & \n",
    "                                 (df_weather['year'] == 2013) & \n",
    "                                 (df_weather['month'] == 2) & \n",
    "                                 (df_weather['day'] == 12)]\n",
    "\n",
    "# Remove the EWR outlier\n",
    "\n",
    "ny_airports_weather = ny_airports_weather[ny_airports_weather['wind_speed'] != 1048.36058]\\\n",
    "\n",
    "# Avg wind speeds grouped by airport\n",
    "\n",
    "average_wind_speeds = ny_airports_weather.groupby('origin')['wind_speed'].mean()\n",
    "\n",
    "# Display results\n",
    "\n",
    "print(\"Average Wind Speeds on February 12, 2013:\")\n",
    "display(average_wind_speeds)"
   ]
  },
  {
   "cell_type": "markdown",
   "id": "1d09e64d-b0d1-4944-ac5e-ad8f65a71e01",
   "metadata": {},
   "source": [
    "Conclusions:\n",
    "\n",
    "Wiley Post Will Rogers Memorial Airport is the northernmost airport in the US.\n",
    "\n",
    "By a technical definition, Adak Airport is the \"eastern\" most airport in the US.\n",
    "\n",
    "LGA had the highest SINGLE HOUR and AVERAGE wind speeds on February 12, 2013."
   ]
  }
 ],
 "metadata": {
  "kernelspec": {
   "display_name": "Python 3 (ipykernel)",
   "language": "python",
   "name": "python3"
  },
  "language_info": {
   "codemirror_mode": {
    "name": "ipython",
    "version": 3
   },
   "file_extension": ".py",
   "mimetype": "text/x-python",
   "name": "python",
   "nbconvert_exporter": "python",
   "pygments_lexer": "ipython3",
   "version": "3.10.12"
  }
 },
 "nbformat": 4,
 "nbformat_minor": 5
}
