{
 "cells": [
  {
   "cell_type": "markdown",
   "id": "c8d064a9-4bed-44e7-ad65-2cb5325a0a77",
   "metadata": {},
   "source": [
    "MOVIES! I asked my girlfriend, brother, and three of my best friends to rate six movies on a scale of one to five: It ends with us, deadpool and wolverine, blink twice, despicable me 4, inside out 2, twisters. This notebook is an analysis of their ratings!"
   ]
  },
  {
   "cell_type": "code",
   "execution_count": 6,
   "id": "8cb23b1e-ef64-4097-a19b-661c5248b11f",
   "metadata": {},
   "outputs": [
    {
     "data": {
      "text/html": [
       "<div>\n",
       "<style scoped>\n",
       "    .dataframe tbody tr th:only-of-type {\n",
       "        vertical-align: middle;\n",
       "    }\n",
       "\n",
       "    .dataframe tbody tr th {\n",
       "        vertical-align: top;\n",
       "    }\n",
       "\n",
       "    .dataframe thead th {\n",
       "        text-align: right;\n",
       "    }\n",
       "</style>\n",
       "<table border=\"1\" class=\"dataframe\">\n",
       "  <thead>\n",
       "    <tr style=\"text-align: right;\">\n",
       "      <th></th>\n",
       "      <th>Name</th>\n",
       "      <th>It Ends with Us</th>\n",
       "      <th>Deadpool and Wolverine</th>\n",
       "      <th>Blink Twice</th>\n",
       "      <th>Despicable Me 4</th>\n",
       "      <th>Inside Out 2</th>\n",
       "      <th>Twisters</th>\n",
       "    </tr>\n",
       "  </thead>\n",
       "  <tbody>\n",
       "    <tr>\n",
       "      <th>0</th>\n",
       "      <td>Nicole</td>\n",
       "      <td>4.0</td>\n",
       "      <td>NaN</td>\n",
       "      <td>3.0</td>\n",
       "      <td>5.0</td>\n",
       "      <td>5</td>\n",
       "      <td>NaN</td>\n",
       "    </tr>\n",
       "    <tr>\n",
       "      <th>1</th>\n",
       "      <td>Darian</td>\n",
       "      <td>5.0</td>\n",
       "      <td>4.0</td>\n",
       "      <td>NaN</td>\n",
       "      <td>3.0</td>\n",
       "      <td>5</td>\n",
       "      <td>4.0</td>\n",
       "    </tr>\n",
       "    <tr>\n",
       "      <th>2</th>\n",
       "      <td>Oscar</td>\n",
       "      <td>3.0</td>\n",
       "      <td>5.0</td>\n",
       "      <td>2.0</td>\n",
       "      <td>4.0</td>\n",
       "      <td>4</td>\n",
       "      <td>NaN</td>\n",
       "    </tr>\n",
       "    <tr>\n",
       "      <th>3</th>\n",
       "      <td>Adrian</td>\n",
       "      <td>4.0</td>\n",
       "      <td>3.0</td>\n",
       "      <td>5.0</td>\n",
       "      <td>3.0</td>\n",
       "      <td>4</td>\n",
       "      <td>2.0</td>\n",
       "    </tr>\n",
       "    <tr>\n",
       "      <th>4</th>\n",
       "      <td>Kismat</td>\n",
       "      <td>NaN</td>\n",
       "      <td>5.0</td>\n",
       "      <td>4.0</td>\n",
       "      <td>NaN</td>\n",
       "      <td>5</td>\n",
       "      <td>3.0</td>\n",
       "    </tr>\n",
       "  </tbody>\n",
       "</table>\n",
       "</div>"
      ],
      "text/plain": [
       "     Name  It Ends with Us  Deadpool and Wolverine  Blink Twice  \\\n",
       "0  Nicole              4.0                     NaN          3.0   \n",
       "1  Darian              5.0                     4.0          NaN   \n",
       "2   Oscar              3.0                     5.0          2.0   \n",
       "3  Adrian              4.0                     3.0          5.0   \n",
       "4  Kismat              NaN                     5.0          4.0   \n",
       "\n",
       "   Despicable Me 4  Inside Out 2  Twisters  \n",
       "0              5.0             5       NaN  \n",
       "1              3.0             5       4.0  \n",
       "2              4.0             4       NaN  \n",
       "3              3.0             4       2.0  \n",
       "4              NaN             5       3.0  "
      ]
     },
     "metadata": {},
     "output_type": "display_data"
    }
   ],
   "source": [
    "import pandas as pd\n",
    "\n",
    "# Import and disply the data\n",
    "\n",
    "df = pd.read_csv('/home/kobi/is362/Week 7 Assignment/Movies.csv')\n",
    "\n",
    "display(df)"
   ]
  },
  {
   "cell_type": "code",
   "execution_count": 9,
   "id": "019f7a12-884c-438e-b693-42bbef1bc814",
   "metadata": {},
   "outputs": [
    {
     "name": "stdout",
     "output_type": "stream",
     "text": [
      "Average ratings per user:\n",
      "Name\n",
      "Nicole    4.041667\n",
      "Darian    4.083333\n",
      "Oscar     3.500000\n",
      "Adrian    3.500000\n",
      "Kismat    4.125000\n",
      "dtype: float64\n",
      "\n",
      "Average ratings per movie:\n",
      "It Ends with Us           4.00\n",
      "Deadpool and Wolverine    4.25\n",
      "Blink Twice               3.50\n",
      "Despicable Me 4           3.75\n",
      "Inside Out 2              4.60\n",
      "Twisters                  3.00\n",
      "dtype: float64\n"
     ]
    }
   ],
   "source": [
    "# Fill missing values\n",
    "df_filled = df.fillna(df.mean(numeric_only=True))\n",
    "\n",
    "# Average ratings for each user\n",
    "user_avg = df_filled.set_index('Name').mean(axis=1)\n",
    "\n",
    "# Average ratings for each movie\n",
    "movie_avg = df_filled.drop(columns='Name').mean(axis=0)\n",
    "\n",
    "print(\"Average ratings per user:\")\n",
    "print(user_avg)\n",
    "\n",
    "print(\"\\nAverage ratings per movie:\")\n",
    "print(movie_avg)"
   ]
  },
  {
   "cell_type": "markdown",
   "id": "bb886cac-9795-42cf-97dd-b6ed3c2e571c",
   "metadata": {},
   "source": [
    "Lets normalize this data according to the rating system of each individual! This can be done using a mathematical fomula: Xnew = (X-Xmin)/(Xmax-Xmin)"
   ]
  },
  {
   "cell_type": "code",
   "execution_count": 11,
   "id": "52f66958-7c6d-4a77-aade-770ffad57a85",
   "metadata": {},
   "outputs": [
    {
     "name": "stdout",
     "output_type": "stream",
     "text": [
      "Average normalized ratings per user:\n",
      "Name\n",
      "Nicole    0.625000\n",
      "Darian    0.600000\n",
      "Oscar     0.533333\n",
      "Adrian    0.500000\n",
      "Kismat    0.625000\n",
      "dtype: float64\n",
      "\n",
      "Average normalized ratings per movie:\n",
      "It Ends with Us           0.625000\n",
      "Deadpool and Wolverine    0.708333\n",
      "Blink Twice               0.375000\n",
      "Despicable Me 4           0.500000\n",
      "Inside Out 2              0.866667\n",
      "Twisters                  0.166667\n",
      "dtype: float64\n"
     ]
    }
   ],
   "source": [
    "# Run the ratings through the mathematical fomula\n",
    "df_normalized = df.set_index('Name').apply(lambda x: (x - x.min()) / (x.max() - x.min()), axis=1)\n",
    "\n",
    "# Proceed with a similar paradigm as before calcualting average ratings for each user and movie.\n",
    "\n",
    "user_avg_normalized = df_normalized.mean(axis=1)\n",
    "movie_avg_normalized = df_normalized.mean(axis=0)\n",
    "print(\"Average normalized ratings per user:\")\n",
    "print(user_avg_normalized)\n",
    "\n",
    "print(\"\\nAverage normalized ratings per movie:\")\n",
    "print(movie_avg_normalized)"
   ]
  },
  {
   "cell_type": "markdown",
   "id": "32cd6f83-82dd-480f-9722-1d7ce752f09f",
   "metadata": {},
   "source": [
    "Let's now standardize this data according to the rating system of each individual. This can be done using a mathematical fomula: Xnew = (x - mu)/sigma"
   ]
  },
  {
   "cell_type": "code",
   "execution_count": 12,
   "id": "e32da0a8-93be-4981-8e63-9fde4935def3",
   "metadata": {},
   "outputs": [
    {
     "name": "stdout",
     "output_type": "stream",
     "text": [
      "Average standardized ratings per user:\n",
      "Name\n",
      "Nicole    5.551115e-17\n",
      "Darian   -1.887379e-16\n",
      "Oscar    -8.881784e-17\n",
      "Adrian    0.000000e+00\n",
      "Kismat    5.551115e-17\n",
      "dtype: float64\n",
      "\n",
      "Average standardized ratings per movie:\n",
      "It Ends with Us           0.161391\n",
      "Deadpool and Wolverine    0.323863\n",
      "Blink Twice              -0.384949\n",
      "Despicable Me 4          -0.194208\n",
      "Inside Out 2              0.670087\n",
      "Twisters                 -0.991607\n",
      "dtype: float64\n"
     ]
    }
   ],
   "source": [
    "# Run the ratings through the mathematical fomula\n",
    "df_standardized = df.set_index('Name').apply(lambda x: (x - x.mean()) / x.std(), axis=1)\n",
    "\n",
    "# Proceed with a similar paradigm as before calcualting average ratings for each user and movie.\n",
    "user_avg_standardized = df_standardized.mean(axis=1)\n",
    "movie_avg_standardized = df_standardized.mean(axis=0)\n",
    "print(\"Average standardized ratings per user:\")\n",
    "print(user_avg_standardized)\n",
    "\n",
    "print(\"\\nAverage standardized ratings per movie:\")\n",
    "print(movie_avg_standardized)"
   ]
  },
  {
   "cell_type": "markdown",
   "id": "98bfb17b-45e4-4cc2-9afe-e2d67dec1a0e",
   "metadata": {},
   "source": [
    "It seems that Inside Out 2 was the most liked movie at an average rating of 4.6 and Twisters was the least liked at an average rating of 3.0. However, everyone has their own personal bias and standardizing/normalizing the data can help get a better idea of removing this personal bias. \n",
    "\n",
    "Normalizing the data helps adjust for people who rate more generously or more strictly (albeit, on a scale of 5, this may not be the best measure) to help make ratings comparable across people. After normalizing, the conclusion above regarding most liked and least liked movies did not change, however, it seems that Inside Out 2 was highly more favored at a rating of 0.8666666666 vs Twisters at a rating of 0.166666666. However, by normalizing, we lose insight into the actual distribution of ratings, which may be important for more complex analyses using other metrics. For example, if we were interested in how different age groups rate a particular movie, it may be beneficial to NOT normalize the data to investigate raw rating differences, both between age groups but also tracking variation within an age group. It may be the case that normalizing the data can help elucidate an age group difference in ratings for a particular movie, but the raw data may provide insight into bias and higher/lesser variation within a particular age group. \n",
    "\n",
    "Standardizing the data helps to focus on how much a rating deviates from someone's average, which may help provide insight into movies that someone enjoyed or didn't enjoy relative to their usual ratings. Again, it seems that Inside Out 2 was highly favored @ 0.67 while Twisters was not favored @ -0.99. The drawback of standardizing is that due to the nature of the mathematics, it may overly spread ratings from people who tend to rate within a narrow range."
   ]
  }
 ],
 "metadata": {
  "kernelspec": {
   "display_name": "Python 3 (ipykernel)",
   "language": "python",
   "name": "python3"
  },
  "language_info": {
   "codemirror_mode": {
    "name": "ipython",
    "version": 3
   },
   "file_extension": ".py",
   "mimetype": "text/x-python",
   "name": "python",
   "nbconvert_exporter": "python",
   "pygments_lexer": "ipython3",
   "version": "3.10.12"
  }
 },
 "nbformat": 4,
 "nbformat_minor": 5
}
