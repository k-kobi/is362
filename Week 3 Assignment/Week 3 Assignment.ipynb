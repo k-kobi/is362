{
 "cells": [
  {
   "cell_type": "markdown",
   "id": "b31dbe61-9079-4941-96b1-c486866be1e3",
   "metadata": {},
   "source": [
    "I am dutifully logging my bike milage every day with a paper and a pencil. Unfortunately, I have to use my bike's odometer and it only shows the sum of all the miles I've biked. How many miles did I ride my bike each day?"
   ]
  },
  {
   "cell_type": "code",
   "execution_count": 11,
   "id": "61d7a73c-c0e6-4a82-aded-738162f96720",
   "metadata": {},
   "outputs": [],
   "source": [
    "import pandas as pd\n",
    "\n",
    "# Let's create a pandas series to represent cumulative miles I've traveled at the end of each day on my trip!\n",
    "\n",
    "cum_miles = pd.Series([55,120,170,230,300,350,410,430,500])"
   ]
  },
  {
   "cell_type": "code",
   "execution_count": 12,
   "id": "67c36268-6412-42c8-98e0-92a15bdac803",
   "metadata": {},
   "outputs": [],
   "source": [
    "# Let's now calculate the daily miles\n",
    "\n",
    "daily_miles = cum_miles.diff()"
   ]
  },
  {
   "cell_type": "code",
   "execution_count": 13,
   "id": "0021900d-b47d-4485-8f60-d432c00945bc",
   "metadata": {},
   "outputs": [],
   "source": [
    "# Let's set the first value for daily miles to the first value of odometer since we are using a diff function\n",
    "daily_miles.iloc[0] = cum_miles.iloc[0]"
   ]
  },
  {
   "cell_type": "code",
   "execution_count": 14,
   "id": "7f5596e5-cf56-4d33-9ec8-ab2ede2a2c48",
   "metadata": {},
   "outputs": [],
   "source": [
    "# Let's create a data frame for these miles\n",
    "\n",
    "data = pd.DataFrame({\n",
    "    'Odometer' : cum_miles,\n",
    "    'Daily Miles' : daily_miles\n",
    "})"
   ]
  },
  {
   "cell_type": "code",
   "execution_count": 15,
   "id": "1f7a4761-7dbd-49a5-b05f-a97f4e78b87e",
   "metadata": {},
   "outputs": [
    {
     "data": {
      "text/html": [
       "<div>\n",
       "<style scoped>\n",
       "    .dataframe tbody tr th:only-of-type {\n",
       "        vertical-align: middle;\n",
       "    }\n",
       "\n",
       "    .dataframe tbody tr th {\n",
       "        vertical-align: top;\n",
       "    }\n",
       "\n",
       "    .dataframe thead th {\n",
       "        text-align: right;\n",
       "    }\n",
       "</style>\n",
       "<table border=\"1\" class=\"dataframe\">\n",
       "  <thead>\n",
       "    <tr style=\"text-align: right;\">\n",
       "      <th></th>\n",
       "      <th>Odometer</th>\n",
       "      <th>Daily Miles</th>\n",
       "    </tr>\n",
       "  </thead>\n",
       "  <tbody>\n",
       "    <tr>\n",
       "      <th>0</th>\n",
       "      <td>55</td>\n",
       "      <td>55.0</td>\n",
       "    </tr>\n",
       "    <tr>\n",
       "      <th>1</th>\n",
       "      <td>120</td>\n",
       "      <td>65.0</td>\n",
       "    </tr>\n",
       "    <tr>\n",
       "      <th>2</th>\n",
       "      <td>170</td>\n",
       "      <td>50.0</td>\n",
       "    </tr>\n",
       "    <tr>\n",
       "      <th>3</th>\n",
       "      <td>230</td>\n",
       "      <td>60.0</td>\n",
       "    </tr>\n",
       "    <tr>\n",
       "      <th>4</th>\n",
       "      <td>300</td>\n",
       "      <td>70.0</td>\n",
       "    </tr>\n",
       "    <tr>\n",
       "      <th>5</th>\n",
       "      <td>350</td>\n",
       "      <td>50.0</td>\n",
       "    </tr>\n",
       "    <tr>\n",
       "      <th>6</th>\n",
       "      <td>410</td>\n",
       "      <td>60.0</td>\n",
       "    </tr>\n",
       "    <tr>\n",
       "      <th>7</th>\n",
       "      <td>430</td>\n",
       "      <td>20.0</td>\n",
       "    </tr>\n",
       "    <tr>\n",
       "      <th>8</th>\n",
       "      <td>500</td>\n",
       "      <td>70.0</td>\n",
       "    </tr>\n",
       "  </tbody>\n",
       "</table>\n",
       "</div>"
      ],
      "text/plain": [
       "   Odometer  Daily Miles\n",
       "0        55         55.0\n",
       "1       120         65.0\n",
       "2       170         50.0\n",
       "3       230         60.0\n",
       "4       300         70.0\n",
       "5       350         50.0\n",
       "6       410         60.0\n",
       "7       430         20.0\n",
       "8       500         70.0"
      ]
     },
     "execution_count": 15,
     "metadata": {},
     "output_type": "execute_result"
    }
   ],
   "source": [
    "# Let's display the data frame\n",
    "\n",
    "data"
   ]
  }
 ],
 "metadata": {
  "kernelspec": {
   "display_name": "Python 3 (ipykernel)",
   "language": "python",
   "name": "python3"
  },
  "language_info": {
   "codemirror_mode": {
    "name": "ipython",
    "version": 3
   },
   "file_extension": ".py",
   "mimetype": "text/x-python",
   "name": "python",
   "nbconvert_exporter": "python",
   "pygments_lexer": "ipython3",
   "version": "3.12.5"
  }
 },
 "nbformat": 4,
 "nbformat_minor": 5
}
