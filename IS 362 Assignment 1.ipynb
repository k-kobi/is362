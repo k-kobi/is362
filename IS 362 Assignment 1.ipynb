{
 "cells": [
  {
   "cell_type": "code",
   "execution_count": 1,
   "id": "cbfaa5ca-8539-47a8-916a-bcf4eb5f7b00",
   "metadata": {},
   "outputs": [
    {
     "name": "stdout",
     "output_type": "stream",
     "text": [
      "1 2 3 4 can do python more\n"
     ]
    }
   ],
   "source": [
    "one = 1\n",
    "two = 2\n",
    "three = 3\n",
    "four = 4\n",
    "can = \"can\"\n",
    "do = \"do\"\n",
    "python = \"python\"\n",
    "more = \"more\"\n",
    "output = f\"{one} {two} {three} {four} {can} {do} {python} {more}\"\n",
    "print(output)"
   ]
  },
  {
   "cell_type": "code",
   "execution_count": 2,
   "id": "af27cd17-b546-4bef-b2f4-97d654af21db",
   "metadata": {},
   "outputs": [
    {
     "name": "stdout",
     "output_type": "stream",
     "text": [
      "The result is 450\n"
     ]
    }
   ],
   "source": [
    "number1 = 15\n",
    "number2 = 30\n",
    "product = number1 * number2\n",
    "print(f\"The result is {product}\")"
   ]
  },
  {
   "cell_type": "code",
   "execution_count": 3,
   "id": "76d8073e-be01-44aa-a4c0-7ef0649fb025",
   "metadata": {
    "scrolled": true
   },
   "outputs": [
    {
     "name": "stdout",
     "output_type": "stream",
     "text": [
      "Given list: [10, 20, 30, 40, 10]\n",
      "\n",
      "result is True\n",
      "\n",
      "Given list: [75, 65, 35, 75, 30]\n",
      "\n",
      "result is False\n"
     ]
    }
   ],
   "source": [
    "def check(numbers):\n",
    "    if numbers[0] == numbers[-1]:\n",
    "        return True\n",
    "    else:\n",
    "        return False\n",
    "numbers_x = [10,20,30,40,10]\n",
    "numbers_y = [75,65,35,75,30]\n",
    "print(f\"Given list: {numbers_x}\")\n",
    "print(f\"\\nresult is {check(numbers_x)}\")\n",
    "print(f\"\\nGiven list: {numbers_y}\")\n",
    "print(f\"\\nresult is {check(numbers_y)}\")\n"
   ]
  },
  {
   "cell_type": "code",
   "execution_count": 5,
   "id": "17206dba-3d72-4da4-a78c-a69453b93f9f",
   "metadata": {},
   "outputs": [
    {
     "name": "stdout",
     "output_type": "stream",
     "text": [
      "Given list is [10, 20, 33, 46, 55]\n",
      "\n",
      "Divisible by 5\n",
      "\n",
      "10\n",
      "\n",
      "20\n",
      "\n",
      "55\n",
      "\n"
     ]
    }
   ],
   "source": [
    "numbers = [10, 20, 33, 46, 55]\n",
    "\n",
    "print(f\"Given list is {numbers}\")\n",
    "print(\"\\nDivisible by 5\\n\")\n",
    "\n",
    "for number in numbers:\n",
    "    if number % 5 == 0:\n",
    "        print(f\"{number}\\n\")\n"
   ]
  },
  {
   "cell_type": "code",
   "execution_count": 6,
   "id": "8010ec0b-b784-4056-a638-0e3e6b2e6e03",
   "metadata": {},
   "outputs": [
    {
     "name": "stdout",
     "output_type": "stream",
     "text": [
      "Anjali appeared 2 times\n"
     ]
    }
   ],
   "source": [
    "str_x = \"Anjali is good developer. Anjali is a writer\"\n",
    "count = str_x.count(\"Anjali\")\n",
    "print(f\"Anjali appeared {count} times\")"
   ]
  },
  {
   "cell_type": "code",
   "execution_count": 7,
   "id": "cda52107-ca33-4adb-976f-4fe5e55bc733",
   "metadata": {},
   "outputs": [
    {
     "name": "stdout",
     "output_type": "stream",
     "text": [
      "1 \n",
      "2 2 \n",
      "3 3 3 \n",
      "4 4 4 4 \n",
      "5 5 5 5 5 \n"
     ]
    }
   ],
   "source": [
    "for i in range(1,6):\n",
    "    print((str(i) + \" \") * i)"
   ]
  },
  {
   "cell_type": "code",
   "execution_count": 10,
   "id": "aef46f27-403e-4479-bb66-daefc556a1b3",
   "metadata": {},
   "outputs": [
    {
     "name": "stdout",
     "output_type": "stream",
     "text": [
      "1 2 3 4 5 6 7 8 9 10 \n",
      "2 4 6 8 10 12 14 16 18 20 \n",
      "3 6 9 12 15 18 21 24 27 30 \n",
      "4 8 12 16 20 24 28 32 36 40 \n",
      "5 10 15 20 25 30 35 40 45 50 \n",
      "6 12 18 24 30 36 42 48 54 60 \n",
      "7 14 21 28 35 42 49 56 63 70 \n",
      "8 16 24 32 40 48 56 64 72 80 \n",
      "9 18 27 36 45 54 63 72 81 90 \n",
      "10 20 30 40 50 60 70 80 90 100 \n"
     ]
    }
   ],
   "source": [
    "for i in range(1,11):\n",
    "    for j in range(1,11):\n",
    "        print(f\"{i*j}\", end= \" \")\n",
    "    print() "
   ]
  },
  {
   "cell_type": "code",
   "execution_count": 3,
   "id": "c0526914-b362-4cdf-87a8-67bc492d6686",
   "metadata": {},
   "outputs": [
    {
     "name": "stdout",
     "output_type": "stream",
     "text": [
      "[ 117.5  -165.63  -47.9     2.83   45.03 -184.7 ]\n"
     ]
    }
   ],
   "source": [
    "import numpy as np\n",
    "\n",
    "Temp_K = [390.65, 107.52, 225.25, 275.98, 318.18, 88.45]\n",
    "\n",
    "arr = np.array(Temp_K)\n",
    "\n",
    "temp = arr-273.15\n",
    "\n",
    "print(temp)"
   ]
  },
  {
   "cell_type": "code",
   "execution_count": 9,
   "id": "c995e654-8de6-486f-8d7e-66a0d4f4e036",
   "metadata": {
    "scrolled": true
   },
   "outputs": [
    {
     "name": "stdout",
     "output_type": "stream",
     "text": [
      "data frame:\n",
      "      Student Hair Color Eye Color  Weight\n",
      "Index                                     \n",
      "0       Tommy      Brown     Hazel      60\n",
      "1        Fred       Grey     Green      80\n",
      "2        Gail     Blonde      Blue      76\n",
      "3        Kobi      Black     Brown      60\n",
      "4       Randy      Black     Hazel      88\n",
      "5       Ariel      Brown      Blue      85\n",
      "\n",
      "Hair color column as series:\n",
      "Index\n",
      "0     Brown\n",
      "1      Grey\n",
      "2    Blonde\n",
      "3     Black\n",
      "4     Black\n",
      "5     Brown\n",
      "Name: Hair Color, dtype: object\n",
      "\n",
      "Eye color column as dataframe:\n",
      "      Eye Color\n",
      "Index          \n",
      "0         Hazel\n",
      "1         Green\n",
      "2          Blue\n",
      "3         Brown\n",
      "4         Hazel\n",
      "5          Blue\n",
      "\n",
      "Student and Weight columns as dataframe:\n",
      "      Student  Weight\n",
      "Index                \n",
      "0       Tommy      60\n",
      "1        Fred      80\n",
      "2        Gail      76\n",
      "3        Kobi      60\n",
      "4       Randy      88\n",
      "5       Ariel      85\n",
      "\n",
      "Second thru fourth observations:\n",
      "      Student Hair Color Eye Color  Weight\n",
      "Index                                     \n",
      "1        Fred       Grey     Green      80\n",
      "2        Gail     Blonde      Blue      76\n",
      "3        Kobi      Black     Brown      60\n"
     ]
    }
   ],
   "source": [
    "import pandas as pd\n",
    "\n",
    "data = {\n",
    "    'Student': ['Tommy', 'Fred', 'Gail', 'Kobi', 'Randy', 'Ariel'],\n",
    "    'Hair Color': ['Brown', 'Grey', 'Blonde', 'Black', 'Black', 'Brown'],\n",
    "    'Eye Color': ['Hazel', 'Green', 'Blue', 'Brown', 'Hazel', 'Blue'],\n",
    "    'Weight': [60, 80, 76, 60, 88, 85]\n",
    "}\n",
    "\n",
    "df = pd.DataFrame(data)\n",
    "df.index.name = 'Index'\n",
    "\n",
    "print(\"data frame:\")\n",
    "print(df)\n",
    "\n",
    "print(\"\\nHair color column as series:\")\n",
    "print(df['Hair Color'])\n",
    "\n",
    "print(\"\\nEye color column as dataframe:\")\n",
    "print(df[['Eye Color']])\n",
    "\n",
    "print(\"\\nStudent and Weight columns as dataframe:\")\n",
    "print(df[['Student', 'Weight']])\n",
    "\n",
    "print(\"\\nSecond thru fourth observations:\")\n",
    "print(df[1:4])"
   ]
  },
  {
   "cell_type": "code",
   "execution_count": null,
   "id": "fb5431a9-262e-4099-80d3-9581937e897c",
   "metadata": {},
   "outputs": [],
   "source": []
  }
 ],
 "metadata": {
  "kernelspec": {
   "display_name": "Python 3 (ipykernel)",
   "language": "python",
   "name": "python3"
  },
  "language_info": {
   "codemirror_mode": {
    "name": "ipython",
    "version": 3
   },
   "file_extension": ".py",
   "mimetype": "text/x-python",
   "name": "python",
   "nbconvert_exporter": "python",
   "pygments_lexer": "ipython3",
   "version": "3.12.5"
  }
 },
 "nbformat": 4,
 "nbformat_minor": 5
}
