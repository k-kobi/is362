{
 "cells": [
  {
   "cell_type": "markdown",
   "id": "47de86e7-4c58-41bc-8885-f74aeeadc839",
   "metadata": {},
   "source": [
    "Here, we are loading an API of the most popular articles on NYT into a pandas data frame."
   ]
  },
  {
   "cell_type": "code",
   "execution_count": 5,
   "id": "9a8841ac-4a85-4cd6-b191-f3ac6a6be959",
   "metadata": {},
   "outputs": [
    {
     "name": "stdout",
     "output_type": "stream",
     "text": [
      "                                                 uri  \\\n",
      "0  nyt://article/ade80fcf-b60e-5560-9fb5-549e4391...   \n",
      "1  nyt://interactive/addf9b67-dc9d-5a4e-8f27-2207...   \n",
      "2  nyt://article/a57f92da-e0df-5f33-aa94-d2f5dac2...   \n",
      "3  nyt://article/c04300a2-b79a-5b93-8f68-1ef27f59...   \n",
      "4  nyt://article/1bb99e56-86aa-52d3-b863-0494fb68...   \n",
      "\n",
      "                                                 url               id  \\\n",
      "0  https://www.nytimes.com/2024/11/04/arts/music/...  100000006756649   \n",
      "1  https://www.nytimes.com/interactive/2024/us/el...  100000009797119   \n",
      "2  https://www.nytimes.com/2024/11/04/us/politics...  100000009802487   \n",
      "3  https://www.nytimes.com/2024/11/04/arts/music/...  100000008920425   \n",
      "4  https://www.nytimes.com/2024/11/04/us/politics...  100000009805256   \n",
      "\n",
      "          asset_id          source published_date              updated  \\\n",
      "0  100000006756649  New York Times     2024-11-04  2024-11-05 13:38:18   \n",
      "1  100000009797119  New York Times     2024-11-01  2024-11-05 09:19:05   \n",
      "2  100000009802487  New York Times     2024-11-04  2024-11-05 11:44:19   \n",
      "3  100000008920425  New York Times     2024-11-04  2024-11-05 12:16:55   \n",
      "4  100000009805256  New York Times     2024-11-04  2024-11-04 23:24:14   \n",
      "\n",
      "  section      subsection nytdsection  ...  \\\n",
      "0    Arts           Music        arts  ...   \n",
      "1    U.S.  2024 Elections        u.s.  ...   \n",
      "2    U.S.        Politics        u.s.  ...   \n",
      "3    Arts           Music        arts  ...   \n",
      "4    U.S.        Politics        u.s.  ...   \n",
      "\n",
      "                                              byline         type  \\\n",
      "0                                     By Ben Ratliff      Article   \n",
      "1              By Alicia Parlapiano and Lazaro Gamio  Interactive   \n",
      "2  By Katie Rogers, Jonathan Weisman and Michael ...      Article   \n",
      "3                                     By Ben Sisario      Article   \n",
      "4                  By Chris Cameron and Michael Gold      Article   \n",
      "\n",
      "                                               title  \\\n",
      "0  Quincy Jones, Giant of American Music, Dies at 91   \n",
      "1  When to Expect Results in Each State on Electi...   \n",
      "2  A Grim Trump and an Upbeat Harris End the Race...   \n",
      "3        Quincy Jones’s Legacy in 14 Essential Songs   \n",
      "4  Joe Rogan Endorses Trump, and Trump Calls Him ...   \n",
      "\n",
      "                                            abstract  \\\n",
      "0  As a producer, he made the best-selling album ...   \n",
      "1  The Times surveyed election officials in all 5...   \n",
      "2  The moods and messages were more different tha...   \n",
      "3  As a producer, arranger, composer, bandleader ...   \n",
      "4  Mr. Rogan has hosted Donald J. Trump, JD Vance...   \n",
      "\n",
      "                                           des_facet  \\\n",
      "0  [Deaths (Obituaries), Pop and Rock Music, Jazz...   \n",
      "1  [Presidential Election of 2024, United States ...   \n",
      "2  [internal-paywall-exempt-elections-app, Presid...   \n",
      "3  [Pop and Rock Music, Jazz, Rhythm and Blues (M...   \n",
      "4      [Presidential Election of 2024, Endorsements]   \n",
      "\n",
      "                              org_facet  \\\n",
      "0                                    []   \n",
      "1                                    []   \n",
      "2  [Democratic Party, Republican Party]   \n",
      "3                                    []   \n",
      "4                                    []   \n",
      "\n",
      "                                           per_facet  \\\n",
      "0                  [Jones, Quincy, Jackson, Michael]   \n",
      "1                [Trump, Donald J, Harris, Kamala D]   \n",
      "2                [Harris, Kamala D, Trump, Donald J]   \n",
      "3                                    [Jones, Quincy]   \n",
      "4  [Kennedy, Robert F Jr, Musk, Elon, Rogan, Joe,...   \n",
      "\n",
      "                                           geo_facet  \\\n",
      "0                                                 []   \n",
      "1  [Arizona, Georgia, Michigan, Nevada, North Car...   \n",
      "2           [Pennsylvania, North Carolina, Michigan]   \n",
      "3                                                 []   \n",
      "4                                                 []   \n",
      "\n",
      "                                               media eta_id  \n",
      "0  [{'type': 'image', 'subtype': 'photo', 'captio...      0  \n",
      "1  [{'type': 'image', 'subtype': '', 'caption': '...      0  \n",
      "2  [{'type': 'image', 'subtype': 'photo', 'captio...      0  \n",
      "3  [{'type': 'image', 'subtype': 'photo', 'captio...      0  \n",
      "4  [{'type': 'image', 'subtype': 'photo', 'captio...      0  \n",
      "\n",
      "[5 rows x 22 columns]\n"
     ]
    }
   ],
   "source": [
    "import requests\n",
    "import pandas as pd\n",
    "\n",
    "# Define API key and make a request\n",
    "api_key = 'M3MwzwlaG2jT6G4YMf3Q3UalnqfNqAr9'\n",
    "url = f'https://api.nytimes.com/svc/mostpopular/v2/viewed/1.json?api-key={api_key}'\n",
    "response = requests.get(url)\n",
    "data = response.json()\n",
    "\n",
    "# Extract data, put in data frame, print\n",
    "articles = data['results']\n",
    "df = pd.DataFrame(articles)\n",
    "print(df.head())"
   ]
  },
  {
   "cell_type": "markdown",
   "id": "e78c51d6-02d3-4a0b-96af-eaf740b3741b",
   "metadata": {},
   "source": [
    "That is too much information and confusing to see let's cut this down a bit."
   ]
  },
  {
   "cell_type": "code",
   "execution_count": 6,
   "id": "a4e3b6f8-4b9b-4a72-81e7-6eb796fdadb1",
   "metadata": {},
   "outputs": [
    {
     "name": "stdout",
     "output_type": "stream",
     "text": [
      "                                               title  \\\n",
      "0  Quincy Jones, Giant of American Music, Dies at 91   \n",
      "1  When to Expect Results in Each State on Electi...   \n",
      "2  A Grim Trump and an Upbeat Harris End the Race...   \n",
      "3        Quincy Jones’s Legacy in 14 Essential Songs   \n",
      "4  Joe Rogan Endorses Trump, and Trump Calls Him ...   \n",
      "\n",
      "                                              byline published_date section  \\\n",
      "0                                     By Ben Ratliff     2024-11-04    Arts   \n",
      "1              By Alicia Parlapiano and Lazaro Gamio     2024-11-01    U.S.   \n",
      "2  By Katie Rogers, Jonathan Weisman and Michael ...     2024-11-04    U.S.   \n",
      "3                                     By Ben Sisario     2024-11-04    Arts   \n",
      "4                  By Chris Cameron and Michael Gold     2024-11-04    U.S.   \n",
      "\n",
      "                                                 url  \n",
      "0  https://www.nytimes.com/2024/11/04/arts/music/...  \n",
      "1  https://www.nytimes.com/interactive/2024/us/el...  \n",
      "2  https://www.nytimes.com/2024/11/04/us/politics...  \n",
      "3  https://www.nytimes.com/2024/11/04/arts/music/...  \n",
      "4  https://www.nytimes.com/2024/11/04/us/politics...  \n"
     ]
    }
   ],
   "source": [
    "df_filtered = df[['title', 'byline', 'published_date', 'section', 'url']]\n",
    "print(df_filtered.head())"
   ]
  },
  {
   "cell_type": "markdown",
   "id": "2ef35a62-8406-4693-9cbe-6381219dd88f",
   "metadata": {},
   "source": [
    "Much better! We now have title, who it is by, the published date, the section, and the URL."
   ]
  }
 ],
 "metadata": {
  "kernelspec": {
   "display_name": "Python 3 (ipykernel)",
   "language": "python",
   "name": "python3"
  },
  "language_info": {
   "codemirror_mode": {
    "name": "ipython",
    "version": 3
   },
   "file_extension": ".py",
   "mimetype": "text/x-python",
   "name": "python",
   "nbconvert_exporter": "python",
   "pygments_lexer": "ipython3",
   "version": "3.12.5"
  }
 },
 "nbformat": 4,
 "nbformat_minor": 5
}
