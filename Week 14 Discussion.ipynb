{
 "cells": [
  {
   "cell_type": "markdown",
   "id": "873dde06-e67e-4816-add6-828c8687ed0f",
   "metadata": {},
   "source": [
    "I have always been curious about how Instagram targets posts SO well. They always seem to know what I am interested or have showed even mild interest in and show me posts that I would enjoy. Here, I am doing a scenario analysis as well as a deeper dive into instagrams recommendation system and potential improvements."
   ]
  },
  {
   "cell_type": "markdown",
   "id": "307a12b3-b589-4068-8512-55b690df42db",
   "metadata": {},
   "source": [
    "Scenario Design Analysis:"
   ]
  },
  {
   "cell_type": "markdown",
   "id": "98887998-4e2c-456c-8981-4391f5eea7d5",
   "metadata": {},
   "source": [
    "Instagram's target users are really just about anyone and everyone. Individuals aim to seek entertainment, social connection, or even information about the world around them. Instagram's machine learning algorithms can curate content that resonates with users individual preferneces depending on a variety of different factors, including how they interact with other posts. Users can benefit from this model because targetted posts may be more engaging for users, help users feel more socially connected with communities of people they are a part of, or feel more connected with the world with information about issues they care about. A good model will increase usage of instagram and thus offer more opportunity to drive profits through advertisements. "
   ]
  },
  {
   "cell_type": "markdown",
   "id": "5a2998be-013c-4a2b-8fa2-197945f2205c",
   "metadata": {},
   "source": [
    "Lets figure out how Instagram's algorithms work using two sources (https://engineering.fb.com/2023/08/09/ml-applications/scaling-instagram-explore-recommendations-system/), (https://blog.quastor.org/p/engineering-behind-instagrams-recommendation-algorithm):"
   ]
  },
  {
   "cell_type": "markdown",
   "id": "c374e562-253a-47d6-a259-a342993c3646",
   "metadata": {},
   "source": [
    "Instagram first undergoes a retrieval stage where it uses two tower neural networks that generates embedding vectors that essentially select a broad set of candidate content from a vast pool. Heuristic methods such as considering accounts followed, topics of interest, and previous interactions are also used here in the retrieval stage. After retrieval, instagram goes through first stage ranking which narrows down this candidate content using the two tower neural network from before, except this time the embedding vectors predict how the second stage ranking model will rank the current content. These selections lead to the second stage ranking, where a multi task multi label neural network model is used to predict all of the different types of engagement actions a user can take (liking, commenting, sharing, etc.) to generate an expected value for content. Finally, the final re-ranking fine tunes the content to filter out certain types of content, whether that be a user preference or not showing too much from the same account too quickly. "
   ]
  },
  {
   "cell_type": "markdown",
   "id": "37bfe1ff-988f-4b8f-81eb-fe2be28663a5",
   "metadata": {},
   "source": [
    "Completely honestly, these algorithms are extremely outside of my domain and I don't understand how they work well enough to suggest potential improvements. Furthermore, I don't think that I could come up with a suggestion that hasn't already been thought of/implemented by this multi billion dollar corporation. It is likely that a more comprehensive model is simply not worth it because the profits it may generate do not exceed the cost of implementing a more comprehensive model. Alternatively, the money saved from using a less comprehensive model may not exceed the loss in potential profits. Ultimately, Meta is paying scientists and economistsbig money to create models "
   ]
  }
 ],
 "metadata": {
  "kernelspec": {
   "display_name": "Python 3 (ipykernel)",
   "language": "python",
   "name": "python3"
  },
  "language_info": {
   "codemirror_mode": {
    "name": "ipython",
    "version": 3
   },
   "file_extension": ".py",
   "mimetype": "text/x-python",
   "name": "python",
   "nbconvert_exporter": "python",
   "pygments_lexer": "ipython3",
   "version": "3.12.5"
  }
 },
 "nbformat": 4,
 "nbformat_minor": 5
}
