{
 "cells": [
  {
   "cell_type": "markdown",
   "id": "d3a1a740-0b6f-46b8-9bb3-d786ca37da31",
   "metadata": {},
   "source": [
    "# Stack Implementation in Python"
   ]
  },
  {
   "cell_type": "markdown",
   "id": "cb7c1ef2-9f10-4f7e-9ba2-3c0a333b957c",
   "metadata": {},
   "source": [
    "A stack is a linear data structure that functions exactly like how it sounds! Let's say you have a stack of books that you've been meaning to read and you decide today that you are going to read them. You grab the first book on the top and start reading. Turns out, the book on the top also happens to be the book you last added to the stack of books (assuming, of course, you added it to top)! This is known as the Last In, First Out principle (LIFO)."
   ]
  },
  {
   "cell_type": "markdown",
   "id": "7db7d8de-e2a7-477d-a3df-0ce1283d6399",
   "metadata": {},
   "source": [
    "Let's define some important operations of a stack in Python!"
   ]
  },
  {
   "cell_type": "code",
   "execution_count": 14,
   "id": "319294a8-fb73-480c-a7d6-41e1ed263141",
   "metadata": {},
   "outputs": [],
   "source": [
    "# Stack class using a Python list\n",
    "\n",
    "class Stack:\n",
    "    def __init__(self):\n",
    "        self.stack = []\n",
    "\n",
    "# Method that \"pushes\" or adds an element to the stack\n",
    "    \n",
    "    def push(self, data):\n",
    "        self.stack.append(data)\n",
    "\n",
    "# Method that \"pops\" or removes an element to the stack\n",
    "    \n",
    "    def pop(self):\n",
    "        if not self.is_empty():\n",
    "            return self.stack.pop()\n",
    "        else:\n",
    "            return \"Stack is empty\"\n",
    "\n",
    "# Method that \"peeks\" or returns the top element of the stack without changing it\n",
    "    \n",
    "    def peek(self):\n",
    "        if not self.is_empty():\n",
    "            return self.stack[-1]\n",
    "        else:\n",
    "            return \"Stack is empty\"\n",
    "\n",
    "# Method that returns if the stack is empty\n",
    "\n",
    "    def is_empty(self):\n",
    "        return len(self.stack) == 0"
   ]
  },
  {
   "cell_type": "markdown",
   "id": "dc932c80-4050-45e1-a518-0a59d8c22a4d",
   "metadata": {},
   "source": [
    "Great, now we have four operations we can use with a stack!\n",
    "\n",
    "'push' : Adds an element to the top of the stack.\n",
    "\n",
    "'pop' : Removes the element from the top of the stack.\n",
    "\n",
    "'peek' : Returns the top element of the stack.\n",
    "\n",
    "'is_empty' : Checks if the stack is empty and returns a boolean."
   ]
  },
  {
   "cell_type": "code",
   "execution_count": 15,
   "id": "b51b6297-a993-430d-b2e3-d8d34de6e1f1",
   "metadata": {},
   "outputs": [
    {
     "name": "stdout",
     "output_type": "stream",
     "text": [
      "Current stack:  [5, 10, 15, 20, 25]\n"
     ]
    }
   ],
   "source": [
    "# Let's create a stack instance\n",
    "\n",
    "stack = Stack()\n",
    "\n",
    "# Let's populate our stack by pushing some elements into it\n",
    "\n",
    "stack.push(5)\n",
    "stack.push(10)\n",
    "stack.push(15)\n",
    "stack.push(20)\n",
    "stack.push(25)\n",
    "\n",
    "# Let's print our current stack\n",
    "\n",
    "print(\"Current stack: \", stack.stack)"
   ]
  },
  {
   "cell_type": "code",
   "execution_count": 16,
   "id": "1a126b6e-152f-4cd0-bffa-8aedb8d66f34",
   "metadata": {},
   "outputs": [
    {
     "name": "stdout",
     "output_type": "stream",
     "text": [
      "Peeking at the top..........  25\n"
     ]
    }
   ],
   "source": [
    "# Let's peek at just the top element\n",
    "\n",
    "print(\"Peeking at the top.......... \", stack.peek())"
   ]
  },
  {
   "cell_type": "code",
   "execution_count": 17,
   "id": "37f6c876-941c-4e15-a6a4-5fc6a12efe8f",
   "metadata": {},
   "outputs": [],
   "source": [
    "# Let's pop that element\n",
    "\n",
    "stack.pop();"
   ]
  },
  {
   "cell_type": "code",
   "execution_count": 18,
   "id": "5e6b13b8-83db-4d4a-9ced-d4e6b9e52cea",
   "metadata": {},
   "outputs": [
    {
     "name": "stdout",
     "output_type": "stream",
     "text": [
      "Stack is NOT empty\n"
     ]
    }
   ],
   "source": [
    "# Is our stack empty now?\n",
    "\n",
    "if stack.is_empty():\n",
    "    print(\"Stack is empty\")\n",
    "else:\n",
    "    print(\"Stack is NOT empty\")"
   ]
  },
  {
   "cell_type": "code",
   "execution_count": 19,
   "id": "01757191-162b-4089-9e51-0e4a59fdad8e",
   "metadata": {},
   "outputs": [
    {
     "name": "stdout",
     "output_type": "stream",
     "text": [
      "Peeking at the top after popping......... 20\n"
     ]
    }
   ],
   "source": [
    "# Okay, if our stack is not empty, what's our top element now?\n",
    "\n",
    "print(\"Peeking at the top after popping.........\", stack.peek())"
   ]
  },
  {
   "cell_type": "markdown",
   "id": "5dddb55c-59dd-46a8-9f10-07d56f228593",
   "metadata": {},
   "source": [
    "I hope this basic guide was helpful in explaining the LIFO principle and stacks in Python!"
   ]
  }
 ],
 "metadata": {
  "kernelspec": {
   "display_name": "Python 3 (ipykernel)",
   "language": "python",
   "name": "python3"
  },
  "language_info": {
   "codemirror_mode": {
    "name": "ipython",
    "version": 3
   },
   "file_extension": ".py",
   "mimetype": "text/x-python",
   "name": "python",
   "nbconvert_exporter": "python",
   "pygments_lexer": "ipython3",
   "version": "3.12.5"
  }
 },
 "nbformat": 4,
 "nbformat_minor": 5
}
