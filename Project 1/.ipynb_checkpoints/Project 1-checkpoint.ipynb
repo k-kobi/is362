{
 "cells": [
  {
   "cell_type": "code",
   "execution_count": 16,
   "id": "31511f4d-43a2-4ced-a898-f0981da728c5",
   "metadata": {},
   "outputs": [
    {
     "name": "stdout",
     "output_type": "stream",
     "text": [
      "   Airline City  On Time  Delayed\n",
      "0   Alaska   LA      497       62\n",
      "1   Alaska  PHX      221       12\n",
      "2   Alaska   SD      212       20\n",
      "3   Alaska   SF      503      102\n",
      "4   Alaska  SEA     1841      305\n",
      "5  AM West   LA      694      117\n",
      "6  AM West  PHX     4840      415\n",
      "7  AM West   SD      383       65\n",
      "8  AM West   SF      320      129\n",
      "9  AM West  SEA      201       61\n"
     ]
    }
   ],
   "source": [
    "import pandas as pd\n",
    "df = pd.read_csv('/Users/kobi/is362/Project 1/Project 1 Spreadsheet.csv')\n",
    "print(df)"
   ]
  },
  {
   "cell_type": "code",
   "execution_count": 19,
   "id": "24d7e0ff-08b4-450d-8a6e-489e8c9d2afd",
   "metadata": {},
   "outputs": [
    {
     "name": "stdout",
     "output_type": "stream",
     "text": [
      "Total # of Delays for each airline:\n",
      "Airline\n",
      "AM West    787\n",
      "Alaska     501\n",
      "Name: Delayed, dtype: int64\n"
     ]
    }
   ],
   "source": [
    "# First, let's identify the total delays for each airline\n",
    "total_delay = df.groupby('Airline')['Delayed'].sum()\n",
    "print(\"Total # of Delays for each airline:\")\n",
    "print(total_delay)"
   ]
  },
  {
   "cell_type": "code",
   "execution_count": 21,
   "id": "9f5aa812-a6b2-4cc4-8059-4e3faa96eab4",
   "metadata": {},
   "outputs": [
    {
     "name": "stdout",
     "output_type": "stream",
     "text": [
      "Percentage of flights that are delayed by airline and city:\n",
      "   Airline City  Delayed_Percent\n",
      "0   Alaska   LA        11.091234\n",
      "1   Alaska  PHX         5.150215\n",
      "2   Alaska   SD         8.620690\n",
      "3   Alaska   SF        16.859504\n",
      "4   Alaska  SEA        14.212488\n",
      "5  AM West   LA        14.426634\n",
      "6  AM West  PHX         7.897241\n",
      "7  AM West   SD        14.508929\n",
      "8  AM West   SF        28.730512\n",
      "9  AM West  SEA        23.282443\n"
     ]
    }
   ],
   "source": [
    "# Next, let's identify the % of flights that are delayed on each airline by city\n",
    "df['Delayed_Percent'] = df['Delayed'] / (df['On Time'] + df['Delayed']) * 100\n",
    "print(\"Percentage of flights that are delayed by airline and city:\")\n",
    "print(df[['Airline', 'City', 'Delayed_Percent']])"
   ]
  },
  {
   "cell_type": "code",
   "execution_count": 20,
   "id": "03272a6d-5f04-40d8-9cab-d97b6a442c21",
   "metadata": {},
   "outputs": [
    {
     "name": "stdout",
     "output_type": "stream",
     "text": [
      "Percentage of flights that are delayed by airline:\n",
      "         Delayed  On Time  Delayed_Percent\n",
      "Airline                                   \n",
      "AM West      787     6438        10.892734\n",
      "Alaska       501     3274        13.271523\n"
     ]
    }
   ],
   "source": [
    "# Let's do a broader, general analysis of the percentage of flights that are delayed by Airline\n",
    "df_grouped = df.groupby('Airline').sum()\n",
    "df_grouped['Delayed_Percent'] = (df_grouped['Delayed'] / (df_grouped['On Time'] + df_grouped['Delayed'])) * 100\n",
    "print(\"Percentage of flights that are delayed by airline:\")\n",
    "print(df_grouped[['Delayed', 'On Time', 'Delayed_Percent']])"
   ]
  },
  {
   "cell_type": "code",
   "execution_count": 22,
   "id": "a90fa0a0-92ca-4734-9d9e-84c2c42aa172",
   "metadata": {},
   "outputs": [],
   "source": [
    "# Overall, it seems that AM west generally flies a far greater number of planes and OVERALL has a lower % of delayed flights.\n",
    "# However, Alaska has a lower % of delayed flights individually in every single city.\n",
    "# How can this be???\n",
    "# It seems that AM west is flying the VAST majority of their flights out of PHX, which has a relatively low % of delays.\n",
    "# Due to this, the large amount of data from PHX skews their delayed percentages in the overall comparison by airline down.\n",
    "# Assuming a flier ONLY CARES about NOT having a delay (ignoring everything else), the flier should choose Alaska in all 5 cities."
   ]
  },
  {
   "cell_type": "code",
   "execution_count": null,
   "id": "ec64f299-9ef5-4ec2-9de9-6ace457be7b8",
   "metadata": {},
   "outputs": [],
   "source": []
  }
 ],
 "metadata": {
  "kernelspec": {
   "display_name": "Python 3 (ipykernel)",
   "language": "python",
   "name": "python3"
  },
  "language_info": {
   "codemirror_mode": {
    "name": "ipython",
    "version": 3
   },
   "file_extension": ".py",
   "mimetype": "text/x-python",
   "name": "python",
   "nbconvert_exporter": "python",
   "pygments_lexer": "ipython3",
   "version": "3.12.5"
  }
 },
 "nbformat": 4,
 "nbformat_minor": 5
}
