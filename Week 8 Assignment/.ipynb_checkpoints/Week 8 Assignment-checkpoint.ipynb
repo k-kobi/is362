{
 "cells": [
  {
   "cell_type": "code",
   "execution_count": null,
   "id": "a8a6782c-a071-4c02-9b07-a6bcb9b12763",
   "metadata": {},
   "outputs": [],
   "source": []
  }
 ],
 "metadata": {
  "kernelspec": {
   "display_name": "Python 3 (ipykernel)",
   "language": "python",
   "name": "python3"
  },
  "language_info": {
   "codemirror_mode": {
    "name": "ipython",
    "version": 3
   },
   "file_extension": ".py",
   "mimetype": "text/x-python",
   "name": "python",
   "nbconvert_exporter": "python",
   "pygments_lexer": "ipython3",
   "version": "3.12.5"
  }
 },
 "nbformat": 4,
 "nbformat_minor": 5
}
